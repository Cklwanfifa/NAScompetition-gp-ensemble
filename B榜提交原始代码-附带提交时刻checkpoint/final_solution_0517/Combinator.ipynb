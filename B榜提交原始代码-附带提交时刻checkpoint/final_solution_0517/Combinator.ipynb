{
 "cells": [
  {
   "cell_type": "code",
   "execution_count": 4,
   "id": "0bd67668",
   "metadata": {},
   "outputs": [],
   "source": [
    "import json"
   ]
  },
  {
   "cell_type": "code",
   "execution_count": 5,
   "id": "bc4d1fb7",
   "metadata": {},
   "outputs": [],
   "source": [
    "a0 = 'CVPR_2022_NAS_Track2_submit_task0_0510version.json'\n",
    "a1 = 'CVPR_2022_NAS_Track2_submit_task1_0510version.json'\n",
    "a2 = 'CVPR_2022_NAS_Track2_submit_task2_0510version.json'\n",
    "a3 = 'CVPR_2022_NAS_Track2_submit_task3_0510version.json'\n",
    "a4 = 'CVPR_2022_NAS_Track2_submit_task4_0510version.json'\n",
    "a5 = 'CVPR_2022_NAS_Track2_submit_task5_0510version.json'\n",
    "a6 = 'CVPR_2022_NAS_Track2_submit_task6_0510version.json'\n",
    "a7 = 'CVPR_2022_NAS_Track2_submit_task7_0510version.json'\n",
    "\n",
    "test_data = 'CVPR_2022_NAS_Track2_submit_A.json'\n",
    "\n",
    "with open(a0, 'r') as f:\n",
    "    r0 = json.load(f)\n",
    "    \n",
    "with open(a1, 'r') as f:\n",
    "    r1 = json.load(f)\n",
    "    \n",
    "with open(a2, 'r') as f:\n",
    "    r2 = json.load(f)\n",
    "    \n",
    "with open(a3, 'r') as f:\n",
    "    r3 = json.load(f)\n",
    "    \n",
    "with open(a4, 'r') as f:\n",
    "    r4 = json.load(f)\n",
    "    \n",
    "with open(a5, 'r') as f:\n",
    "    r5 = json.load(f)\n",
    "    \n",
    "with open(a6, 'r') as f:\n",
    "    r6 = json.load(f)\n",
    "    \n",
    "with open(a7, 'r') as f:\n",
    "    r7 = json.load(f)\n",
    "    \n",
    "with open(test_data, 'r') as f:\n",
    "    test_data = json.load(f)\n"
   ]
  },
  {
   "cell_type": "code",
   "execution_count": 6,
   "id": "b4ad7901",
   "metadata": {},
   "outputs": [
    {
     "name": "stdout",
     "output_type": "stream",
     "text": [
      "Ready to save results!\n"
     ]
    }
   ],
   "source": [
    "for idx,key in enumerate(test_data.keys()):\n",
    "    test_data[key]['cplfw_rank'] = r0[key]['cplfw_rank']\n",
    "    test_data[key]['market1501_rank'] = r1[key]['market1501_rank']\n",
    "    test_data[key]['dukemtmc_rank'] = r2[key]['dukemtmc_rank']\n",
    "    test_data[key]['msmt17_rank'] = r3[key]['msmt17_rank']\n",
    "    test_data[key]['veri_rank'] = r4[key]['veri_rank']\n",
    "    test_data[key]['vehicleid_rank'] = r5[key]['vehicleid_rank']\n",
    "    test_data[key]['veriwild_rank'] = r6[key]['veriwild_rank']\n",
    "    test_data[key]['sop_rank'] = r7[key]['sop_rank']\n",
    "print('Ready to save results!')\n",
    "with open('CVPR_2022_NAS_Track2_submit_combinator_0517f2.json', 'w') as f:\n",
    "    json.dump(test_data, f)"
   ]
  },
  {
   "cell_type": "code",
   "execution_count": 11,
   "id": "e99a52a8",
   "metadata": {},
   "outputs": [
    {
     "data": {
      "text/plain": [
       "0.9798334064007014"
      ]
     },
     "execution_count": 11,
     "metadata": {},
     "output_type": "execute_result"
    }
   ],
   "source": [
    "0.1788 / 0.18248"
   ]
  },
  {
   "cell_type": "code",
   "execution_count": 12,
   "id": "d6e1dd1d",
   "metadata": {},
   "outputs": [
    {
     "data": {
      "text/plain": [
       "0.9913829760624329"
      ]
     },
     "execution_count": 12,
     "metadata": {},
     "output_type": "execute_result"
    }
   ],
   "source": [
    "0.79269 / 0.79958 "
   ]
  },
  {
   "cell_type": "code",
   "execution_count": null,
   "id": "96c896bf",
   "metadata": {},
   "outputs": [],
   "source": []
  }
 ],
 "metadata": {
  "kernelspec": {
   "display_name": "Python 3",
   "language": "python",
   "name": "python3"
  },
  "language_info": {
   "codemirror_mode": {
    "name": "ipython",
    "version": 3
   },
   "file_extension": ".py",
   "mimetype": "text/x-python",
   "name": "python",
   "nbconvert_exporter": "python",
   "pygments_lexer": "ipython3",
   "version": "3.8.8"
  }
 },
 "nbformat": 4,
 "nbformat_minor": 5
}
