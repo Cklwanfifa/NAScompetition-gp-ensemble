{
 "cells": [
  {
   "cell_type": "code",
   "execution_count": 14,
   "metadata": {},
   "outputs": [],
   "source": [
    "import json"
   ]
  },
  {
   "cell_type": "code",
   "execution_count": 15,
   "metadata": {},
   "outputs": [],
   "source": [
    "a0 = 'CVPR_2022_NAS_Track2_submit_task0_0510version.json'\n",
    "a1 = 'CVPR_2022_NAS_Track2_submit_task1_0510version.json'\n",
    "a2 = 'CVPR_2022_NAS_Track2_submit_task2_0510version.json'\n",
    "a3 = 'CVPR_2022_NAS_Track2_submit_task3_0510version.json'\n",
    "a4 = 'CVPR_2022_NAS_Track2_submit_task4_0510version.json'\n",
    "a5 = 'CVPR_2022_NAS_Track2_submit_task5_0510version.json'\n",
    "a6 = 'CVPR_2022_NAS_Track2_submit_task6_0510version.json'\n",
    "a7 = 'CVPR_2022_NAS_Track2_submit_task7_0510version.json'\n",
    "\n",
    "test_data = 'CVPR_2022_NAS_Track2_submit_A.json'\n",
    "\n",
    "with open(a0, 'r') as f:\n",
    "    r0 = json.load(f)\n",
    "    \n",
    "with open(a1, 'r') as f:\n",
    "    r1 = json.load(f)\n",
    "    \n",
    "with open(a2, 'r') as f:\n",
    "    r2 = json.load(f)\n",
    "    \n",
    "with open(a3, 'r') as f:\n",
    "    r3 = json.load(f)\n",
    "    \n",
    "with open(a4, 'r') as f:\n",
    "    r4 = json.load(f)\n",
    "    \n",
    "with open(a5, 'r') as f:\n",
    "    r5 = json.load(f)\n",
    "    \n",
    "with open(a6, 'r') as f:\n",
    "    r6 = json.load(f)\n",
    "    \n",
    "with open(a7, 'r') as f:\n",
    "    r7 = json.load(f)\n",
    "    \n",
    "with open(test_data, 'r') as f:\n",
    "    test_data = json.load(f)\n"
   ]
  },
  {
   "cell_type": "code",
   "execution_count": 16,
   "metadata": {},
   "outputs": [
    {
     "name": "stdout",
     "output_type": "stream",
     "text": [
      "Ready to save results!\n"
     ]
    }
   ],
   "source": [
    "for idx,key in enumerate(test_data.keys()):\n",
    "    test_data[key]['cplfw_rank'] = r0[key]['cplfw_rank']\n",
    "    test_data[key]['market1501_rank'] = r1[key]['market1501_rank']\n",
    "    test_data[key]['dukemtmc_rank'] = r2[key]['dukemtmc_rank']\n",
    "    test_data[key]['msmt17_rank'] = r3[key]['msmt17_rank']\n",
    "    test_data[key]['veri_rank'] = r4[key]['veri_rank']\n",
    "    test_data[key]['vehicleid_rank'] = r5[key]['vehicleid_rank']\n",
    "    test_data[key]['veriwild_rank'] = r6[key]['veriwild_rank']\n",
    "    test_data[key]['sop_rank'] = r7[key]['sop_rank']\n",
    "print('Ready to save results!')\n",
    "with open('CVPR_2022_NAS_Track2_submit_combinator_0517f2.json', 'w') as f:\n",
    "    json.dump(test_data, f)"
   ]
  },
  {
   "cell_type": "code",
   "execution_count": null,
   "metadata": {},
   "outputs": [],
   "source": []
  },
  {
   "cell_type": "markdown",
   "metadata": {},
   "source": [
    "### check: 与0517提交的B榜结果一致性"
   ]
  },
  {
   "cell_type": "code",
   "execution_count": 17,
   "metadata": {},
   "outputs": [
    {
     "data": {
      "text/plain": [
       "{'cplfw_rank': 75141,\n",
       " 'market1501_rank': 98399,\n",
       " 'dukemtmc_rank': 98407,\n",
       " 'msmt17_rank': 98318,\n",
       " 'veri_rank': 93031,\n",
       " 'vehicleid_rank': 51336,\n",
       " 'veriwild_rank': 97332,\n",
       " 'sop_rank': 94943,\n",
       " 'arch': 'j331231331331311111331121321111000000'}"
      ]
     },
     "execution_count": 17,
     "metadata": {},
     "output_type": "execute_result"
    }
   ],
   "source": [
    "test_data['arch505']"
   ]
  },
  {
   "cell_type": "code",
   "execution_count": 18,
   "metadata": {},
   "outputs": [
    {
     "data": {
      "text/plain": [
       "{'cplfw_rank': 75141,\n",
       " 'market1501_rank': 98399,\n",
       " 'dukemtmc_rank': 98407,\n",
       " 'msmt17_rank': 98318,\n",
       " 'veri_rank': 93031,\n",
       " 'vehicleid_rank': 51336,\n",
       " 'veriwild_rank': 97332,\n",
       " 'sop_rank': 94943,\n",
       " 'arch': 'j331231331331311111331121321111000000'}"
      ]
     },
     "execution_count": 18,
     "metadata": {},
     "output_type": "execute_result"
    }
   ],
   "source": [
    "#读取0517提交数据，check是否一致\n",
    "with open('CVPR_2022_NAS_Track2_submit_combinator_0517submit.json', 'r') as f:\n",
    "    baseline = json.load(f)\n",
    "\n",
    "baseline['arch505'] "
   ]
  },
  {
   "cell_type": "code",
   "execution_count": null,
   "metadata": {},
   "outputs": [],
   "source": []
  },
  {
   "cell_type": "code",
   "execution_count": null,
   "metadata": {},
   "outputs": [],
   "source": []
  }
 ],
 "metadata": {
  "kernelspec": {
   "display_name": "Python 3",
   "language": "python",
   "name": "python3"
  },
  "language_info": {
   "codemirror_mode": {
    "name": "ipython",
    "version": 3
   },
   "file_extension": ".py",
   "mimetype": "text/x-python",
   "name": "python",
   "nbconvert_exporter": "python",
   "pygments_lexer": "ipython3",
   "version": "3.8.5"
  }
 },
 "nbformat": 4,
 "nbformat_minor": 5
}
